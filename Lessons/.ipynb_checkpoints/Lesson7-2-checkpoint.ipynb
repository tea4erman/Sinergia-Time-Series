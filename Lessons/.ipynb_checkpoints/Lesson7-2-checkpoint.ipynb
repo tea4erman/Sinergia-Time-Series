{
 "cells": [
  {
   "cell_type": "code",
   "execution_count": 2,
   "id": "70f58436",
   "metadata": {},
   "outputs": [],
   "source": [
    "import pandas as pd\n",
    "import numpy as np\n",
    "import matplotlib.pyplot as plt\n",
    "from scipy import stats\n",
    "import statsmodels.api as sm"
   ]
  },
  {
   "cell_type": "code",
   "execution_count": 3,
   "id": "53809b9a",
   "metadata": {},
   "outputs": [],
   "source": [
    "def simulate_ma1(mu, theta_1, T, random_state, plot = True):\n",
    "    y = np.zeros(T)\n",
    "    y[0] = mu\n",
    "    epsilons = stats.norm.rvs(size = T, random_state = random_state)\n",
    "    for t in range(1, T):\n",
    "        y[t] = mu + epsilons[t] + theta_1*epsilons[t-1]\n",
    "    return y"
   ]
  },
  {
   "cell_type": "code",
   "execution_count": 4,
   "id": "7506cca6",
   "metadata": {},
   "outputs": [],
   "source": [
    "def simulate_ma2(mu, theta_1, theta_2, T, random_state, plot = True):\n",
    "    y = np.zeros(T)\n",
    "    y[0] = mu\n",
    "    y[1] = mu\n",
    "    epsilons = stats.norm.rvs(size = T, random_state = random_state)\n",
    "    for t in range(2, T):\n",
    "        y[t] = mu + epsilons[t] + theta_1*epsilons[t-1] + theta_2*epsilons[t-2]\n",
    "    return y"
   ]
  },
  {
   "cell_type": "code",
   "execution_count": 5,
   "id": "5acea439",
   "metadata": {},
   "outputs": [],
   "source": [
    "mu = 1\n",
    "theta_1 = 0.5\n",
    "T = 500\n",
    "y = simulate_ma1(mu, theta_1, T, random_state = 42)"
   ]
  },
  {
   "cell_type": "code",
   "execution_count": 6,
   "id": "b3dac82f",
   "metadata": {},
   "outputs": [
    {
     "name": "stdout",
     "output_type": "stream",
     "text": [
      "                               SARIMAX Results                                \n",
      "==============================================================================\n",
      "Dep. Variable:                      y   No. Observations:                  500\n",
      "Model:                 ARIMA(0, 0, 1)   Log Likelihood                -699.505\n",
      "Date:                Sat, 30 Nov 2024   AIC                           1405.010\n",
      "Time:                        02:53:58   BIC                           1417.654\n",
      "Sample:                             0   HQIC                          1409.972\n",
      "                                - 500                                         \n",
      "Covariance Type:                  opg                                         \n",
      "==============================================================================\n",
      "                 coef    std err          z      P>|z|      [0.025      0.975]\n",
      "------------------------------------------------------------------------------\n",
      "const          1.0092      0.067     15.125      0.000       0.878       1.140\n",
      "ma.L1          0.5110      0.039     13.034      0.000       0.434       0.588\n",
      "sigma2         0.9603      0.058     16.609      0.000       0.847       1.074\n",
      "===================================================================================\n",
      "Ljung-Box (L1) (Q):                   0.11   Jarque-Bera (JB):                 4.28\n",
      "Prob(Q):                              0.74   Prob(JB):                         0.12\n",
      "Heteroskedasticity (H):               1.17   Skew:                             0.18\n",
      "Prob(H) (two-sided):                  0.32   Kurtosis:                         3.27\n",
      "===================================================================================\n",
      "\n",
      "Warnings:\n",
      "[1] Covariance matrix calculated using the outer product of gradients (complex-step).\n"
     ]
    }
   ],
   "source": [
    "results = sm.tsa.arima.ARIMA(y, order=(0, 0, 1)).fit()\n",
    "print(results.summary())"
   ]
  },
  {
   "cell_type": "code",
   "execution_count": 7,
   "id": "eb0ce313",
   "metadata": {},
   "outputs": [],
   "source": [
    "mu = 1\n",
    "theta_1 = 0.5\n",
    "theta_2 = -0.4\n",
    "T = 500\n",
    "y = simulate_ma2(mu, theta_1, theta_2, T, random_state = 42)"
   ]
  },
  {
   "cell_type": "code",
   "execution_count": 8,
   "id": "8db8b0a7",
   "metadata": {},
   "outputs": [
    {
     "name": "stdout",
     "output_type": "stream",
     "text": [
      "                               SARIMAX Results                                \n",
      "==============================================================================\n",
      "Dep. Variable:                      y   No. Observations:                  500\n",
      "Model:                 ARIMA(0, 0, 2)   Log Likelihood                -699.859\n",
      "Date:                Sat, 30 Nov 2024   AIC                           1407.717\n",
      "Time:                        02:54:03   BIC                           1424.576\n",
      "Sample:                             0   HQIC                          1414.333\n",
      "                                - 500                                         \n",
      "Covariance Type:                  opg                                         \n",
      "==============================================================================\n",
      "                 coef    std err          z      P>|z|      [0.025      0.975]\n",
      "------------------------------------------------------------------------------\n",
      "const          1.0060      0.048     21.046      0.000       0.912       1.100\n",
      "ma.L1          0.4961      0.042     11.884      0.000       0.414       0.578\n",
      "ma.L2         -0.4203      0.042     -9.943      0.000      -0.503      -0.337\n",
      "sigma2         0.9590      0.057     16.694      0.000       0.846       1.072\n",
      "===================================================================================\n",
      "Ljung-Box (L1) (Q):                   0.00   Jarque-Bera (JB):                 4.79\n",
      "Prob(Q):                              0.99   Prob(JB):                         0.09\n",
      "Heteroskedasticity (H):               1.18   Skew:                             0.19\n",
      "Prob(H) (two-sided):                  0.28   Kurtosis:                         3.28\n",
      "===================================================================================\n",
      "\n",
      "Warnings:\n",
      "[1] Covariance matrix calculated using the outer product of gradients (complex-step).\n"
     ]
    }
   ],
   "source": [
    "results = sm.tsa.arima.ARIMA(y, order=(0, 0, 2)).fit()\n",
    "print(results.summary())"
   ]
  },
  {
   "cell_type": "code",
   "execution_count": null,
   "id": "956b9520",
   "metadata": {},
   "outputs": [],
   "source": []
  }
 ],
 "metadata": {
  "kernelspec": {
   "display_name": "Python 3 (ipykernel)",
   "language": "python",
   "name": "python3"
  },
  "language_info": {
   "codemirror_mode": {
    "name": "ipython",
    "version": 3
   },
   "file_extension": ".py",
   "mimetype": "text/x-python",
   "name": "python",
   "nbconvert_exporter": "python",
   "pygments_lexer": "ipython3",
   "version": "3.11.5"
  }
 },
 "nbformat": 4,
 "nbformat_minor": 5
}
