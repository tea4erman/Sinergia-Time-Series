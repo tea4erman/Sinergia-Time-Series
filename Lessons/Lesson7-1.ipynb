{
 "cells": [
  {
   "cell_type": "code",
   "execution_count": 2,
   "id": "70f58436",
   "metadata": {},
   "outputs": [],
   "source": [
    "import pandas as pd\n",
    "import numpy as np\n",
    "import matplotlib.pyplot as plt\n",
    "from scipy import stats\n",
    "import statsmodels.api as sm"
   ]
  },
  {
   "cell_type": "code",
   "execution_count": 3,
   "id": "53809b9a",
   "metadata": {},
   "outputs": [],
   "source": [
    "def simulate_ar1(phi_0, phi_1, T, random_state):\n",
    "    y = np.zeros(T)\n",
    "    if phi_1 == 1:\n",
    "        y[0] = stats.norm.rvs(1)\n",
    "    else:\n",
    "        y[0] = phi_0 / (1-phi_1)\n",
    "    epsilons = stats.norm.rvs(size = T, random_state = random_state)\n",
    "    for t in range(1, T):\n",
    "        y[t] = phi_0 + phi_1*y[t-1] + epsilons[t]\n",
    "    return y"
   ]
  },
  {
   "cell_type": "code",
   "execution_count": 4,
   "id": "30505bc8",
   "metadata": {},
   "outputs": [],
   "source": [
    "def simulate_ar2(phi_0, phi_1, phi_2, T, random_state, plot = True):\n",
    "    y = np.zeros(T)\n",
    "    y[0] = phi_0 / (1-phi_1-phi_2)\n",
    "    y[1] = phi_0 / (1-phi_1-phi_2)\n",
    "    epsilons = stats.norm.rvs(size = T, random_state = random_state)\n",
    "    for t in range(1, T):\n",
    "        y[t] = phi_0 + phi_1*y[t-1] + phi_2*y[t-2] + epsilons[t]\n",
    "    return y"
   ]
  },
  {
   "cell_type": "code",
   "execution_count": 5,
   "id": "5acea439",
   "metadata": {},
   "outputs": [],
   "source": [
    "phi_0 = 1\n",
    "phi_1 = 0.5\n",
    "T = 500\n",
    "y = simulate_ar1(phi_0, phi_1, T, random_state = 42)"
   ]
  },
  {
   "cell_type": "code",
   "execution_count": 7,
   "id": "b1880074",
   "metadata": {
    "scrolled": false
   },
   "outputs": [
    {
     "name": "stdout",
     "output_type": "stream",
     "text": [
      "                            OLS Regression Results                            \n",
      "==============================================================================\n",
      "Dep. Variable:                      y   R-squared:                       0.239\n",
      "Model:                            OLS   Adj. R-squared:                  0.237\n",
      "Method:                 Least Squares   F-statistic:                     155.8\n",
      "Date:                Sat, 30 Nov 2024   Prob (F-statistic):           2.66e-31\n",
      "Time:                        14:03:37   Log-Likelihood:                -698.45\n",
      "No. Observations:                 499   AIC:                             1401.\n",
      "Df Residuals:                     497   BIC:                             1409.\n",
      "Df Model:                           1                                         \n",
      "Covariance Type:            nonrobust                                         \n",
      "==============================================================================\n",
      "                 coef    std err          t      P>|t|      [0.025      0.975]\n",
      "------------------------------------------------------------------------------\n",
      "const          1.0259      0.091     11.316      0.000       0.848       1.204\n",
      "x1             0.4901      0.039     12.484      0.000       0.413       0.567\n",
      "==============================================================================\n",
      "Omnibus:                        4.381   Durbin-Watson:                   1.984\n",
      "Prob(Omnibus):                  0.112   Jarque-Bera (JB):                4.217\n",
      "Skew:                           0.185   Prob(JB):                        0.121\n",
      "Kurtosis:                       3.257   Cond. No.                         5.47\n",
      "==============================================================================\n",
      "\n",
      "Notes:\n",
      "[1] Standard Errors assume that the covariance matrix of the errors is correctly specified.\n"
     ]
    }
   ],
   "source": [
    "Y = y[1:]\n",
    "X = y[:-1]\n",
    "X = sm.add_constant(X)\n",
    "model = sm.OLS(Y,X)\n",
    "results = model.fit()\n",
    "print(results.summary())"
   ]
  },
  {
   "cell_type": "code",
   "execution_count": 8,
   "id": "f788c2f1",
   "metadata": {},
   "outputs": [
    {
     "name": "stdout",
     "output_type": "stream",
     "text": [
      "                            OLS Regression Results                            \n",
      "==============================================================================\n",
      "Dep. Variable:                      y   R-squared:                       0.239\n",
      "Model:                            OLS   Adj. R-squared:                  0.237\n",
      "Method:                 Least Squares   F-statistic:                     155.8\n",
      "Date:                Sat, 30 Nov 2024   Prob (F-statistic):           2.66e-31\n",
      "Time:                        14:03:38   Log-Likelihood:                -698.45\n",
      "No. Observations:                 499   AIC:                             1401.\n",
      "Df Residuals:                     497   BIC:                             1409.\n",
      "Df Model:                           1                                         \n",
      "Covariance Type:            nonrobust                                         \n",
      "==============================================================================\n",
      "                 coef    std err          t      P>|t|      [0.025      0.975]\n",
      "------------------------------------------------------------------------------\n",
      "const          1.0259      0.091     11.316      0.000       0.848       1.204\n",
      "x1             0.4901      0.039     12.484      0.000       0.413       0.567\n",
      "==============================================================================\n",
      "Omnibus:                        4.381   Durbin-Watson:                   1.984\n",
      "Prob(Omnibus):                  0.112   Jarque-Bera (JB):                4.217\n",
      "Skew:                           0.185   Prob(JB):                        0.121\n",
      "Kurtosis:                       3.257   Cond. No.                         5.47\n",
      "==============================================================================\n",
      "\n",
      "Notes:\n",
      "[1] Standard Errors assume that the covariance matrix of the errors is correctly specified.\n"
     ]
    }
   ],
   "source": [
    "from statsmodels.tsa.ar_model import AutoReg\n",
    "resuts = AutoReg(y, lags = 1).fit()\n",
    "print(results.summary())"
   ]
  },
  {
   "cell_type": "code",
   "execution_count": 15,
   "id": "8f0b0e09",
   "metadata": {},
   "outputs": [],
   "source": [
    "sm.tsa.arima.ARIMA?"
   ]
  },
  {
   "cell_type": "code",
   "execution_count": 16,
   "id": "b3dac82f",
   "metadata": {},
   "outputs": [
    {
     "name": "stdout",
     "output_type": "stream",
     "text": [
      "                               SARIMAX Results                                \n",
      "==============================================================================\n",
      "Dep. Variable:                      y   No. Observations:                  500\n",
      "Model:                 ARIMA(1, 0, 0)   Log Likelihood                -699.486\n",
      "Date:                Sat, 30 Nov 2024   AIC                           1404.972\n",
      "Time:                        14:05:39   BIC                           1417.616\n",
      "Sample:                             0   HQIC                          1409.933\n",
      "                                - 500                                         \n",
      "Covariance Type:                  opg                                         \n",
      "==============================================================================\n",
      "                 coef    std err          z      P>|z|      [0.025      0.975]\n",
      "------------------------------------------------------------------------------\n",
      "const          2.0118      0.087     23.214      0.000       1.842       2.182\n",
      "ar.L1          0.4891      0.040     12.238      0.000       0.411       0.567\n",
      "sigma2         0.9603      0.058     16.678      0.000       0.847       1.073\n",
      "===================================================================================\n",
      "Ljung-Box (L1) (Q):                   0.02   Jarque-Bera (JB):                 4.31\n",
      "Prob(Q):                              0.88   Prob(JB):                         0.12\n",
      "Heteroskedasticity (H):               1.18   Skew:                             0.19\n",
      "Prob(H) (two-sided):                  0.30   Kurtosis:                         3.26\n",
      "===================================================================================\n",
      "\n",
      "Warnings:\n",
      "[1] Covariance matrix calculated using the outer product of gradients (complex-step).\n"
     ]
    }
   ],
   "source": [
    "results = sm.tsa.arima.ARIMA(y, order=(1, 0, 0)).fit()\n",
    "print(results.summary())"
   ]
  },
  {
   "cell_type": "code",
   "execution_count": 13,
   "id": "49882574",
   "metadata": {},
   "outputs": [
    {
     "data": {
      "text/plain": [
       "[1]"
      ]
     },
     "execution_count": 13,
     "metadata": {},
     "output_type": "execute_result"
    }
   ],
   "source": [
    "from statsmodels.tsa.ar_model import ar_select_order\n",
    "mod = ar_select_order(y, maxlag=13)\n",
    "mod.ar_lags"
   ]
  },
  {
   "cell_type": "code",
   "execution_count": 27,
   "id": "eb0ce313",
   "metadata": {},
   "outputs": [],
   "source": [
    "phi_0 = 1\n",
    "phi_1 = 0.5\n",
    "phi_2 = -0.4\n",
    "T = 500\n",
    "y = simulate_ar2(phi_0, phi_1, phi_2, T, random_state = 42)"
   ]
  },
  {
   "cell_type": "code",
   "execution_count": 42,
   "id": "06f9c6fc",
   "metadata": {},
   "outputs": [
    {
     "name": "stdout",
     "output_type": "stream",
     "text": [
      "                            OLS Regression Results                            \n",
      "==============================================================================\n",
      "Dep. Variable:                      y   R-squared:                       0.278\n",
      "Model:                            OLS   Adj. R-squared:                  0.275\n",
      "Method:                 Least Squares   F-statistic:                     95.30\n",
      "Date:                Wed, 27 Nov 2024   Prob (F-statistic):           9.68e-36\n",
      "Time:                        16:50:49   Log-Likelihood:                -697.51\n",
      "No. Observations:                 498   AIC:                             1401.\n",
      "Df Residuals:                     495   BIC:                             1414.\n",
      "Df Model:                           2                                         \n",
      "Covariance Type:            nonrobust                                         \n",
      "==============================================================================\n",
      "                 coef    std err          t      P>|t|      [0.025      0.975]\n",
      "------------------------------------------------------------------------------\n",
      "const          1.0057      0.068     14.735      0.000       0.872       1.140\n",
      "x1            -0.4114      0.041    -10.018      0.000      -0.492      -0.331\n",
      "x2             0.5118      0.041     12.477      0.000       0.431       0.592\n",
      "==============================================================================\n",
      "Omnibus:                        4.226   Durbin-Watson:                   2.027\n",
      "Prob(Omnibus):                  0.121   Jarque-Bera (JB):                4.053\n",
      "Skew:                           0.181   Prob(JB):                        0.132\n",
      "Kurtosis:                       3.252   Cond. No.                         3.69\n",
      "==============================================================================\n",
      "\n",
      "Notes:\n",
      "[1] Standard Errors assume that the covariance matrix of the errors is correctly specified.\n"
     ]
    }
   ],
   "source": [
    "import statsmodels.api as sm\n",
    "Y = y[2:]\n",
    "X = np.array([y[:-2], y[1:-1]]).T\n",
    "X = sm.add_constant(X)\n",
    "model = sm.OLS(Y,X)\n",
    "results = model.fit()\n",
    "print(results.summary())"
   ]
  },
  {
   "cell_type": "code",
   "execution_count": 43,
   "id": "8803830c",
   "metadata": {},
   "outputs": [
    {
     "name": "stdout",
     "output_type": "stream",
     "text": [
      "                            OLS Regression Results                            \n",
      "==============================================================================\n",
      "Dep. Variable:                      y   R-squared:                       0.278\n",
      "Model:                            OLS   Adj. R-squared:                  0.275\n",
      "Method:                 Least Squares   F-statistic:                     95.30\n",
      "Date:                Wed, 27 Nov 2024   Prob (F-statistic):           9.68e-36\n",
      "Time:                        16:52:49   Log-Likelihood:                -697.51\n",
      "No. Observations:                 498   AIC:                             1401.\n",
      "Df Residuals:                     495   BIC:                             1414.\n",
      "Df Model:                           2                                         \n",
      "Covariance Type:            nonrobust                                         \n",
      "==============================================================================\n",
      "                 coef    std err          t      P>|t|      [0.025      0.975]\n",
      "------------------------------------------------------------------------------\n",
      "const          1.0057      0.068     14.735      0.000       0.872       1.140\n",
      "x1            -0.4114      0.041    -10.018      0.000      -0.492      -0.331\n",
      "x2             0.5118      0.041     12.477      0.000       0.431       0.592\n",
      "==============================================================================\n",
      "Omnibus:                        4.226   Durbin-Watson:                   2.027\n",
      "Prob(Omnibus):                  0.121   Jarque-Bera (JB):                4.053\n",
      "Skew:                           0.181   Prob(JB):                        0.132\n",
      "Kurtosis:                       3.252   Cond. No.                         3.69\n",
      "==============================================================================\n",
      "\n",
      "Notes:\n",
      "[1] Standard Errors assume that the covariance matrix of the errors is correctly specified.\n"
     ]
    }
   ],
   "source": [
    "from statsmodels.tsa.ar_model import AutoReg\n",
    "resuts = AutoReg(y, lags = 1).fit()\n",
    "print(results.summary())"
   ]
  },
  {
   "cell_type": "code",
   "execution_count": 45,
   "id": "8db8b0a7",
   "metadata": {},
   "outputs": [
    {
     "name": "stdout",
     "output_type": "stream",
     "text": [
      "                               SARIMAX Results                                \n",
      "==============================================================================\n",
      "Dep. Variable:                      y   No. Observations:                  500\n",
      "Model:                 ARIMA(2, 0, 0)   Log Likelihood                -699.605\n",
      "Date:                Wed, 27 Nov 2024   AIC                           1407.211\n",
      "Time:                        16:53:04   BIC                           1424.069\n",
      "Sample:                             0   HQIC                          1413.826\n",
      "                                - 500                                         \n",
      "Covariance Type:                  opg                                         \n",
      "==============================================================================\n",
      "                 coef    std err          z      P>|z|      [0.025      0.975]\n",
      "------------------------------------------------------------------------------\n",
      "const          1.1183      0.049     22.727      0.000       1.022       1.215\n",
      "ar.L1          0.5108      0.044     11.710      0.000       0.425       0.596\n",
      "ar.L2         -0.4098      0.044     -9.408      0.000      -0.495      -0.324\n",
      "sigma2         0.9603      0.058     16.525      0.000       0.846       1.074\n",
      "===================================================================================\n",
      "Ljung-Box (L1) (Q):                   0.11   Jarque-Bera (JB):                 4.14\n",
      "Prob(Q):                              0.75   Prob(JB):                         0.13\n",
      "Heteroskedasticity (H):               1.17   Skew:                             0.18\n",
      "Prob(H) (two-sided):                  0.32   Kurtosis:                         3.26\n",
      "===================================================================================\n",
      "\n",
      "Warnings:\n",
      "[1] Covariance matrix calculated using the outer product of gradients (complex-step).\n"
     ]
    }
   ],
   "source": [
    "results = sm.tsa.arima.ARIMA(y, order=(2, 0, 0)).fit()\n",
    "print(results.summary())"
   ]
  },
  {
   "cell_type": "code",
   "execution_count": 46,
   "id": "a8ea1bd4",
   "metadata": {},
   "outputs": [
    {
     "data": {
      "text/plain": [
       "[1, 2]"
      ]
     },
     "execution_count": 46,
     "metadata": {},
     "output_type": "execute_result"
    }
   ],
   "source": [
    "from statsmodels.tsa.ar_model import ar_select_order\n",
    "mod = ar_select_order(y, maxlag=13)\n",
    "mod.ar_lags"
   ]
  },
  {
   "cell_type": "code",
   "execution_count": null,
   "id": "fa7317aa",
   "metadata": {},
   "outputs": [],
   "source": []
  }
 ],
 "metadata": {
  "kernelspec": {
   "display_name": "Python 3 (ipykernel)",
   "language": "python",
   "name": "python3"
  },
  "language_info": {
   "codemirror_mode": {
    "name": "ipython",
    "version": 3
   },
   "file_extension": ".py",
   "mimetype": "text/x-python",
   "name": "python",
   "nbconvert_exporter": "python",
   "pygments_lexer": "ipython3",
   "version": "3.11.5"
  }
 },
 "nbformat": 4,
 "nbformat_minor": 5
}
